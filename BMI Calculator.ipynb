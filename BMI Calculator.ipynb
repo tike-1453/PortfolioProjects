{
 "cells": [
  {
   "cell_type": "markdown",
   "id": "c8a60d39-f6a2-450e-b076-18f7ce2f76e0",
   "metadata": {},
   "source": [
    "# BMI Calculator\n",
    "\n",
    "https://mercer-health.com/services/weight-management-center/bmi-calculator#:~:text=Body%20Mass%20Index%2C%20or%20BMI,inches%20x%20height%20in%20inches"
   ]
  },
  {
   "cell_type": "code",
   "execution_count": 8,
   "id": "40f58f50-c4cc-4bda-8454-957a7e2ba5a3",
   "metadata": {},
   "outputs": [
    {
     "name": "stdin",
     "output_type": "stream",
     "text": [
      "Enter your weight in pounds:  150\n",
      "Enter your height in inches:  75\n"
     ]
    },
    {
     "name": "stdout",
     "output_type": "stream",
     "text": [
      "18.746666666666666\n"
     ]
    }
   ],
   "source": [
    "name = input(\"Enter your name: \")\n",
    "weight = int(input(\"Enter your weight in pounds: \"))\n",
    "height = int(input(\"Enter your height in inches: \"))\n",
    "BMI = (weight * 703) / (height * height)\n",
    "print(BMI)"
   ]
  },
  {
   "cell_type": "code",
   "execution_count": null,
   "id": "1737f6cf-760a-4915-8a40-64ace4408abb",
   "metadata": {},
   "outputs": [],
   "source": [
    "#BMI = (weight in pounds * 703) / (height in inches * height in inches)"
   ]
  },
  {
   "cell_type": "markdown",
   "id": "93245eeb-1aa5-4c67-9776-c29ab1144c76",
   "metadata": {},
   "source": [
    "# Under 18.5 -> Underweight -> Minimal\n",
    "# 18.5 - 24.9 -> Normal Weight -> Minimal\n",
    "# 25 - 29.9 -> Overweight -> Increased\n",
    "# 30 - 34.9 -> Obese -> High\n",
    "# 35 - 39.9 -> Severely Obese -> Very High\n",
    "# 40 and over -> Morbidly Obese -> Extremely High"
   ]
  },
  {
   "cell_type": "code",
   "execution_count": null,
   "id": "f52ff01d-1e9a-49af-968f-55f55e679304",
   "metadata": {},
   "outputs": [],
   "source": [
    "if BMI > 0:\n",
    "    if (BMI < 18.5):\n",
    "        print(name + \", you are underweight.\")\n",
    "        \n",
    "    elif (BMI <= 24.9):\n",
    "        print(name + \", you are normal weight.\")\n",
    "        \n",
    "    elif (BMI < 29.9):\n",
    "        print(name + \", you are overweight.\")\n",
    "\n",
    "    elif (BMI < 34.9):\n",
    "        print(name + \", you are obese.\")\n",
    "\n",
    "    elif (BMI < 39.9):\n",
    "        print(name + \", you are severely obese.\")\n",
    "\n",
    "    else:\n",
    "        print(name + \", you are morbidly obese.\")\n",
    "\n",
    "else:\n",
    "    print(\"Enter valid input.\")"
   ]
  }
 ],
 "metadata": {
  "kernelspec": {
   "display_name": "Python 3 (ipykernel)",
   "language": "python",
   "name": "python3"
  },
  "language_info": {
   "codemirror_mode": {
    "name": "ipython",
    "version": 3
   },
   "file_extension": ".py",
   "mimetype": "text/x-python",
   "name": "python",
   "nbconvert_exporter": "python",
   "pygments_lexer": "ipython3",
   "version": "3.12.7"
  }
 },
 "nbformat": 4,
 "nbformat_minor": 5
}
